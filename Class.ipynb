{
  "cells": [
    {
      "cell_type": "markdown",
      "metadata": {
        "id": "view-in-github",
        "colab_type": "text"
      },
      "source": [
        "<a href=\"https://colab.research.google.com/github/domingues100/IEEE---Water_Level/blob/main/Class.ipynb\" target=\"_parent\"><img src=\"https://colab.research.google.com/assets/colab-badge.svg\" alt=\"Open In Colab\"/></a>"
      ]
    },
    {
      "cell_type": "markdown",
      "metadata": {
        "id": "5savH5UHnplo"
      },
      "source": [
        "\n",
        "\n",
        "# **Drive**"
      ]
    },
    {
      "cell_type": "code",
      "execution_count": null,
      "metadata": {
        "id": "fLdsXvwzniPF"
      },
      "outputs": [],
      "source": [
        "from google.colab import drive\n",
        "drive.mount('/content/drive')"
      ]
    },
    {
      "cell_type": "markdown",
      "metadata": {
        "id": "vcjHTZ67nueW"
      },
      "source": [
        "# IMPORTS"
      ]
    },
    {
      "cell_type": "code",
      "execution_count": null,
      "metadata": {
        "id": "yBYMRa8wohPR"
      },
      "outputs": [],
      "source": [
        "import os\n",
        "from shutil import copy2\n",
        "import csv\n",
        "from __future__ import absolute_import, division, print_function, unicode_literals\n",
        "import tensorflow as tf\n",
        "import numpy as np\n",
        "import matplotlib.pyplot as plt\n",
        "import pandas as pd\n",
        "import PIL\n",
        "from tensorflow import keras\n",
        "from keras import layers\n",
        "from keras.layers import Dense, Flatten\n",
        "from keras.models import Sequential\n",
        "from sklearn.model_selection import KFold, StratifiedKFold, train_test_split\n",
        "from tensorflow.keras.preprocessing.image import ImageDataGenerator\n",
        "import gc\n",
        "import statistics\n",
        "from sklearn.metrics import mean_absolute_error, r2_score, mean_squared_error\n",
        "from sklearn.metrics import classification_report\n",
        "from keras.layers import Lambda\n",
        "import tensorflow_hub as hub"
      ]
    },
    {
      "cell_type": "markdown",
      "metadata": {
        "id": "8ipxcrFCbd5y"
      },
      "source": [
        "# **KFOLD**"
      ]
    },
    {
      "cell_type": "code",
      "execution_count": null,
      "metadata": {
        "id": "VSYJxkSDt5xT",
        "collapsed": true
      },
      "outputs": [],
      "source": [
        "train_data = pd.read_csv('/content/drive/MyDrive/IC_Machine_Learning/instances_default.csv')\n",
        "\n",
        "for ind in train_data.index:\n",
        "  train_data.loc[ind, 'label'] = train_data.loc[ind, 'label'] - 3\n",
        "\n",
        "train_data['label']=train_data[\"label\"].values.astype(str)\n",
        "\n",
        "Y = train_data[['label']]"
      ]
    },
    {
      "cell_type": "code",
      "execution_count": null,
      "metadata": {
        "id": "AvKNAE3hgePW"
      },
      "outputs": [],
      "source": [
        "image_dir =  #image path\n",
        "\n",
        "skf = StratifiedKFold(n_splits = 5, random_state = 42, shuffle = True)\n",
        "\n",
        "num_epochs = 100\n",
        "\n",
        "idg = ImageDataGenerator(width_shift_range=0.3,\n",
        "                         height_shift_range=0.3,\n",
        "                         rotation_range=0.4,\n",
        "                         zoom_range=0.4,\n",
        "                         fill_mode='nearest',\n",
        "                         horizontal_flip = True,\n",
        "                         rescale=1./255)"
      ]
    },
    {
      "cell_type": "markdown",
      "metadata": {
        "id": "D-bdOM3buG8s"
      },
      "source": [
        "We don’t need to create X, because as mentioned in the documentation page for StratifiedKFold , it is sufficient to provide only the labels Y to generate the splits and hence we can put np.zeros(n_samples) instead of X.\n"
      ]
    },
    {
      "cell_type": "code",
      "execution_count": null,
      "metadata": {
        "id": "8YK9Up3WvC0S"
      },
      "outputs": [],
      "source": [
        "save_dir = save_path\n",
        "fold_var = 1\n",
        "\n",
        "n = Y.size\n",
        "\n",
        "#when running for the first time, need to run this lines, it will give the folder to run for faster-rcnn, retinanet and regression.\n",
        "#After the first time, comment this lines and uncomment lines bellow\n",
        "for train_index, val_index in skf.split(np.zeros(n),Y):\n",
        "  training_data = train_data.iloc[train_index]\n",
        "  validation_data = train_data.iloc[val_index]\n",
        "\n",
        "\n",
        "#lines to uncomment\n",
        "# for i in range(1,6):\n",
        "#   training_data = pd.read_csv(f\"/content/drive/MyDrive/Transaciones/Classificação/training_data{i}.csv\")\n",
        "#   validation_data = pd.read_csv(f\"/content/drive/MyDrive/Transaciones/Classificação/validation_data{i}.csv\")\n",
        "\n",
        "\n",
        "  training_data ['label']=training_data [\"label\"].values.astype(str)\n",
        "  validation_data['label']=validation_data[\"label\"].values.astype(str)\n",
        "\n",
        "  training_data.to_csv(f\"{save_dir}/training_data{fold_var}.csv\") #saves training_data in a csv\n",
        "  validation_data.to_csv(f\"{save_dir}/validation_data{fold_var}.csv\") #saves testing_data in a csv\n",
        "\n",
        "\n",
        "  base_model = keras.applications.ResNet50V2(\n",
        "               include_top=False,\n",
        "               weights='imagenet',\n",
        "               input_shape=(224, 224, 3))\n",
        "\n",
        "  base_model.trainable = False\n",
        "\n",
        "  model = keras.Sequential([\n",
        "\n",
        "    base_model,\n",
        "    keras.layers.GlobalAveragePooling2D(),\n",
        "    keras.layers.Dense(256, activation ='relu'),\n",
        "    keras.layers.Dropout(0.4),\n",
        "    keras.layers.Dense(5, activation='softmax')\n",
        "  ])\n",
        "\n",
        "  #data generators - training and validating\n",
        "  train_data_generator = idg.flow_from_dataframe(training_data, directory = image_dir,\n",
        "\t\t\t\t\t\t             x_col = \"id\", y_col = \"label\",\n",
        "\t\t\t\t\t\t             class_mode = \"categorical\", shuffle = True, batch_size=32)\n",
        "\n",
        "  valid_data_generator = idg.flow_from_dataframe(validation_data, directory = image_dir,\n",
        "\t\t\t\t\t\t\t           x_col = \"id\", y_col = \"label\",\n",
        "\t\t\t\t\t\t\t           class_mode = \"categorical\", shuffle = False, batch_size=32)\n",
        "\n",
        "  # Optimizer\n",
        "  optimizer = tf.keras.optimizers.Adam(learning_rate=1e-4)\n",
        "\n",
        "\t# Compile Model\n",
        "  model.compile(loss='categorical_crossentropy', optimizer=optimizer, metrics=['accuracy', 'mse'])\n",
        "\n",
        "\t# Fit Model\n",
        "  history = model.fit(train_data_generator, epochs=num_epochs, validation_data=valid_data_generator)\n",
        "  # Save Model\n",
        "  tf.keras.backend.clear_session()\n",
        "  model.save(save_dir + f\"/model{fold_var}.h5\")\n",
        "  fold_var += 1\n",
        "  gc.collect()"
      ]
    },
    {
      "cell_type": "markdown",
      "metadata": {
        "id": "puHdnyVbB9Tb"
      },
      "source": [
        "# Load Model"
      ]
    },
    {
      "cell_type": "markdown",
      "metadata": {
        "id": "ukeNCrE_kZJ0"
      },
      "source": [
        "Necessary run diretory cells and idg before\n",
        "\n"
      ]
    },
    {
      "cell_type": "code",
      "execution_count": null,
      "metadata": {
        "id": "O4lO63lBApM9"
      },
      "outputs": [],
      "source": [
        "from keras.models import load_model\n",
        "\n",
        "base_model = keras.applications.ResNet50V2(\n",
        "               include_top=False,\n",
        "               weights='imagenet',\n",
        "               input_shape=(224, 224, 3))\n",
        "\n",
        "base_model.trainable = False\n",
        "\n",
        "\n",
        "model = keras.Sequential([\n",
        "    base_model,\n",
        "    keras.layers.GlobalAveragePooling2D(),\n",
        "    keras.layers.Dense(256, activation ='relu'),\n",
        "    keras.layers.Dropout(0.4),\n",
        "    keras.layers.Dense(5, activation='softmax')\n",
        "  ])"
      ]
    },
    {
      "cell_type": "code",
      "execution_count": null,
      "metadata": {
        "id": "EXsJPZ4vABT2"
      },
      "outputs": [],
      "source": [
        "save_dir =  #save path\n",
        "image_dir = #images\n",
        "\n",
        "var = 1\n",
        "accuracy = []\n",
        "k=0\n",
        "\n",
        "for k in range(5):\n",
        "\n",
        "  #it will read the folders\n",
        "  validation_data = pd.read_csv(f\"{save_dir}/validation_data{k+1}.csv\")\n",
        "\n",
        "  validation_data['label']=validation_data[\"label\"].values.astype(str)\n",
        "\n",
        "  valid_data_generator = idg.flow_from_dataframe(validation_data, directory = image_dir,\n",
        "\t\t\t\t\t\t\t           x_col = \"id\", y_col = \"label\",\n",
        "\t\t\t\t\t\t\t           class_mode = \"categorical\", shuffle = False, batch_size=32)\n",
        "\n",
        "  #it will load the model\n",
        "  model.load_weights(f\"{save_dir}/model{k+1}.h5\")\n",
        "  pred = model.predict(valid_data_generator)\n",
        "  predicted = np.argmax(pred,axis=1)\n",
        "\n",
        "\n",
        "  for itens in validation_data:\n",
        "    val_data = validation_data[\"label\"] .values.tolist()\n",
        "\n",
        "\n",
        "  val_data = list(map(int, val_data))\n",
        "  print(val_data)\n",
        "  j=0\n",
        "  resultado = 0\n",
        "  for elements in val_data:\n",
        "    if val_data[j] == predicted[j]:\n",
        "      resultado += 1\n",
        "    j += 1\n",
        "\n",
        "  accuracy.append(resultado/len(val_data))\n",
        "  k += 1\n",
        "\n",
        "  dados = {\"predicted\": predicted, \"label\": val_data}\n",
        "\n",
        "  df = pd.DataFrame(dados)\n",
        "  df.to_csv(f\"{save_dir}/df{k}.csv\")\n"
      ]
    }
  ],
  "metadata": {
    "accelerator": "GPU",
    "colab": {
      "collapsed_sections": [
        "5savH5UHnplo",
        "vcjHTZ67nueW",
        "qv7b_EzfXiyf"
      ],
      "provenance": [],
      "gpuType": "T4",
      "machine_shape": "hm",
      "include_colab_link": true
    },
    "kernelspec": {
      "display_name": "Python 3",
      "name": "python3"
    },
    "language_info": {
      "name": "python"
    }
  },
  "nbformat": 4,
  "nbformat_minor": 0
}