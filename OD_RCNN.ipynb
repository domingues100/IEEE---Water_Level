{
  "cells": [
    {
      "cell_type": "markdown",
      "metadata": {
        "id": "view-in-github",
        "colab_type": "text"
      },
      "source": [
        "<a href=\"https://colab.research.google.com/github/domingues100/IEEE---Water_Level/blob/main/OD_RCNN.ipynb\" target=\"_parent\"><img src=\"https://colab.research.google.com/assets/colab-badge.svg\" alt=\"Open In Colab\"/></a>"
      ]
    },
    {
      "cell_type": "markdown",
      "metadata": {
        "id": "B0I_MuxQ6kLz"
      },
      "source": [
        "# **Inicialization**"
      ]
    },
    {
      "cell_type": "markdown",
      "metadata": {
        "id": "Ugd043WKjwv2"
      },
      "source": [
        "Install detectron2 and clone cocosplit\n",
        "\n",
        "-Restart environment after that"
      ]
    },
    {
      "cell_type": "code",
      "execution_count": null,
      "metadata": {
        "id": "oRQK9aIUh6nr",
        "collapsed": true
      },
      "outputs": [],
      "source": [
        "!python -m pip install 'git+https://github.com/facebookresearch/detectron2.git'\n",
        "!git clone https://github.com/akarazniewicz/cocosplit.git\n",
        "!pip install funcy\n",
        "!pip install scikit-multilearn"
      ]
    },
    {
      "cell_type": "code",
      "execution_count": null,
      "metadata": {
        "id": "G-xCUqDdoSfM"
      },
      "outputs": [],
      "source": [
        "from google.colab import drive\n",
        "drive.mount('/content/drive')"
      ]
    },
    {
      "cell_type": "markdown",
      "metadata": {
        "id": "NuUFd_Afz2-z"
      },
      "source": [
        "# TRAIN MODEL"
      ]
    },
    {
      "cell_type": "markdown",
      "metadata": {
        "id": "Hc-l0CzZSuZ-"
      },
      "source": [
        "***Libraries***"
      ]
    },
    {
      "cell_type": "code",
      "execution_count": null,
      "metadata": {
        "id": "kUwZvn6cSrrt"
      },
      "outputs": [],
      "source": [
        "from detectron2.data import MetadataCatalog, DatasetCatalog, build_detection_test_loader\n",
        "from detectron2.data import transforms as T\n",
        "from detectron2.data.datasets import register_coco_instances, load_coco_json\n",
        "from detectron2.utils.visualizer import Visualizer, ColorMode\n",
        "from detectron2.engine import DefaultTrainer, DefaultPredictor\n",
        "from detectron2.config import get_cfg\n",
        "from detectron2 import model_zoo\n",
        "from detectron2.evaluation import COCOEvaluator, inference_on_dataset\n",
        "from google.colab.patches import cv2_imshow\n",
        "import cv2\n",
        "import os\n",
        "import shutil"
      ]
    },
    {
      "cell_type": "markdown",
      "metadata": {
        "id": "zotiuY1nh4RB"
      },
      "source": [
        "***Define some augmentations***"
      ]
    },
    {
      "cell_type": "code",
      "execution_count": null,
      "metadata": {
        "id": "Xmk_boLrh3rh"
      },
      "outputs": [],
      "source": [
        "class CustomAugmentation(T.Augmentation):\n",
        "    def get_transform(self, image):\n",
        "        transforms = [\n",
        "            T.RandomFlip(prob=0.5, horizontal=True),\n",
        "            T.RandomBrightness(0.1, 0.5),\n",
        "            T.RandomContrast(0.1, 0.5),\n",
        "            T.RandomRotation(angle=[-25, 25]),\n",
        "            T.RandomNoise(intensity=0.12),\n",
        "            T.RandomZoom(scale=(0.1, 0.3)),\n",
        "            T.ElasticTransform(alpha=1.2, sigma=0.2),\n",
        "            T.CropAndPad(percent=(0, 0.4))\n",
        "        ]\n",
        "        return T.TransformList(transforms)"
      ]
    },
    {
      "cell_type": "markdown",
      "metadata": {
        "id": "zgrNE6Iqh7gH"
      },
      "source": [
        "***Split Coco***"
      ]
    },
    {
      "cell_type": "code",
      "execution_count": null,
      "metadata": {
        "id": "2t-2UuBp9j8u"
      },
      "outputs": [],
      "source": [
        "#name of the test\n",
        "test = \"test_fasterrcnn\"\n",
        "\n",
        "#split test and train using cocosplit\n",
        "!python cocosplit/cocosplit.py -s 0.7 \"/content/drive/MyDrive/IC_Machine_Learning/instances_default.json\" train.json test.json\n",
        "\n",
        "#move train and test to desired folders\n",
        "archives = ['train.json', 'test.json']\n",
        "\n",
        "for archive in archives:\n",
        "    os.makedirs(f\"/content/drive/MyDrive/Transaciones/{test}\", exist_ok=True)\n",
        "    origin_path = os.path.join(\"/content/\", archive)\n",
        "    final_path = os.path.join(f\"/content/drive/MyDrive/Transaciones/{test}\", archive)\n",
        "\n",
        "    shutil.copy(origin_path, final_path)"
      ]
    },
    {
      "cell_type": "code",
      "execution_count": null,
      "metadata": {
        "id": "4WM9Rbk8cIM7"
      },
      "outputs": [],
      "source": [
        "test_json = f\"/content/drive/MyDrive/Transaciones/{test}/test.json\"\n",
        "train_json = f\"/content/drive/MyDrive/Transaciones/{test}/train.json\"\n",
        "images = \"/content/drive/MyDrive/IC_Machine_Learning/images\"\n",
        "\n",
        "register_coco_instances(f\"test_dataset_no_crop_{teste}\", {}, test_json, images)\n",
        "register_coco_instances(f\"train_dataset_no_crop_{teste}\", {}, train_json, images)\n",
        "\n",
        "DatasetCatalog.register(\"test_dataset\", lambda: register_coco_instances(f\"test_dataset_no_crop_{teste}\", {}, test_json, images), )\n",
        "DatasetCatalog.register(\"train_dataset\", lambda: register_coco_instances(f\"train_dataset_no_crop_{teste}\", {}, train_json, images))\n",
        "\n",
        "teste_dataset_no_crop_metadata = MetadataCatalog.get(f\"teste_dataset_no_crop_{test}\")\n",
        "train_dataset_no_crop_metadata = MetadataCatalog.get(f\"train_dataset_no_crop_{test}\")"
      ]
    },
    {
      "cell_type": "code",
      "execution_count": null,
      "metadata": {
        "colab": {
          "base_uri": "https://localhost:8080/"
        },
        "id": "N8Y9qhagudcv",
        "outputId": "31949d84-febc-4bd1-9fe7-caa423b95073"
      },
      "outputs": [
        {
          "output_type": "execute_result",
          "data": {
            "text/plain": [
              "57"
            ]
          },
          "metadata": {},
          "execution_count": 7
        }
      ],
      "source": [
        "import gc\n",
        "gc.collect()"
      ]
    },
    {
      "cell_type": "code",
      "execution_count": null,
      "metadata": {
        "id": "E5BOR2pU306D"
      },
      "outputs": [],
      "source": [
        "cfg = get_cfg()\n",
        "cfg.merge_from_file(model_zoo.get_config_file(\"COCO-Detection/faster_rcnn_X_101_32x8d_FPN_3x.yaml\"))\n",
        "cfg.DATASETS.TRAIN = (f\"train_dataset_no_crop_{teste}\",)\n",
        "cfg.DATASETS.TEST = (f\"teste_dataset_no_crop_{teste}\",)\n",
        "cfg.DATALOADER.NUM_WORKERS = 2\n",
        "cfg.MODEL.WEIGHTS = model_zoo.get_checkpoint_url(\"COCO-Detection/faster_rcnn_X_101_32x8d_FPN_3x.yaml\")\n",
        "cfg.SOLVER.IMS_PER_BATCH = 16\n",
        "cfg.SOLVER.BASE_LR = 0.001\n",
        "cfg.SOLVER.MAX_ITER = 250\n",
        "cfg.MODEL.ROI_HEADS.BATCH_SIZE_PER_IMAGE = (128)\n",
        "cfg.MODEL.ROI_HEADS.NUM_CLASSES = 8\n",
        "cfg.INPUT.RANDOM_FLIP = \"horizontal\"\n",
        "cfg.INPUT.MAX_SIZE_TRAIN = 384\n",
        "cfg.INPUT.MIN_SIZE_TEST = 384\n",
        "cfg.INPUT.MAX_SIZE_TEST = 384\n",
        "\n",
        "cfg.INPUT.AUGMENTATIONS = [(\"CustomAugmentation\", CustomAugmentation())]\n",
        "\n",
        "OUTPUT_DIR = f\"/content/drive/MyDrive/Transaciones/{teste}\"\n",
        "os.makedirs(OUTPUT_DIR, exist_ok=True)\n",
        "cfg.OUTPUT_DIR = OUTPUT_DIR\n",
        "\n",
        "trainer = DefaultTrainer(cfg)\n",
        "trainer.resume_or_load(resume=False)\n",
        "trainer.train()"
      ]
    },
    {
      "cell_type": "markdown",
      "metadata": {
        "id": "I4eKd6_XqW3X"
      },
      "source": [
        "***Evaluate the perfomance***"
      ]
    },
    {
      "cell_type": "code",
      "execution_count": null,
      "metadata": {
        "id": "wMx4tYcWdvw1"
      },
      "outputs": [],
      "source": [
        "evaluator = COCOEvaluator(f\"test_dataset_no_crop_{test}\", cfg, False, output_dir=f\"/content/drive/MyDrive/Transaciones/{test}\")\n",
        "val_loader = build_detection_test_loader(cfg, f\"test_dataset_no_crop_{test}\")\n",
        "print(inference_on_dataset(trainer.model, val_loader, evaluator))"
      ]
    },
    {
      "cell_type": "markdown",
      "metadata": {
        "id": "Oxn_u9OzD7qf"
      },
      "source": [
        "# Load Model and test/calculate IoU\n"
      ]
    },
    {
      "cell_type": "code",
      "source": [
        "test = \"teste_fasterrcnn\""
      ],
      "metadata": {
        "id": "4UhYSFMkP0_i"
      },
      "execution_count": null,
      "outputs": []
    },
    {
      "cell_type": "code",
      "execution_count": null,
      "metadata": {
        "id": "w1UGnbZTVT2-",
        "collapsed": true
      },
      "outputs": [],
      "source": [
        "from detectron2.config import get_cfg\n",
        "from detectron2.engine import DefaultPredictor\n",
        "from detectron2.checkpoint import DetectionCheckpointer\n",
        "\n",
        "cfg = get_cfg()\n",
        "cfg.merge_from_file(model_zoo.get_config_file(\"COCO-Detection/faster_rcnn_X_101_32x8d_FPN_3x.yaml\")) #FOR FASTERCNN\n",
        "cfg.DATALOADER.NUM_WORKERS = 2\n",
        "cfg.MODEL.WEIGHTS = f\"/content/drive/MyDrive/Transaciones/{teste}/model_final.pth\"\n",
        "cfg.SOLVER.IMS_PER_BATCH = 16\n",
        "cfg.SOLVER.BASE_LR = 0.001\n",
        "cfg.SOLVER.MAX_ITER = 250\n",
        "cfg.MODEL.ROI_HEADS.BATCH_SIZE_PER_IMAGE = (128)\n",
        "cfg.MODEL.ROI_HEADS.NUM_CLASSES = 8\n",
        "cfg.INPUT.RANDOM_FLIP = \"horizontal\"\n",
        "cfg.INPUT.MAX_SIZE_TRAIN = 384\n",
        "cfg.INPUT.MIN_SIZE_TEST = 384\n",
        "cfg.INPUT.MAX_SIZE_TEST = 384\n",
        "cfg.INPUT.AUGMENTATIONS = [(\"CustomAugmentation\", CustomAugmentation())]\n",
        "\n",
        "model = DefaultPredictor(cfg).model\n",
        "checkpointer = DetectionCheckpointer(model)\n",
        "checkpointer.load(cfg.MODEL.WEIGHTS)\n"
      ]
    },
    {
      "cell_type": "code",
      "execution_count": null,
      "metadata": {
        "id": "bGXzuIPc0X2s"
      },
      "outputs": [],
      "source": [
        "test_json = \"/content/drive/MyDrive/Transaciones/test_fasterrcnn/train.json\"\n",
        "images = \"/content/drive/MyDrive/IC_Machine_Learning/images\""
      ]
    },
    {
      "cell_type": "markdown",
      "source": [],
      "metadata": {
        "id": "TgP-mUY48RKd"
      }
    },
    {
      "cell_type": "code",
      "execution_count": null,
      "metadata": {
        "id": "qw8yMmmQ1B57"
      },
      "outputs": [],
      "source": [
        "register_coco_instances(\"test_dataset_rcnn\", {}, test_json, images)\n",
        "\n",
        "DatasetCatalog.register(\"test_dataset\", lambda: register_coco_instances(\"test_dataset_rcnn\", {}, test_json, images), )\n",
        "\n",
        "teste_dataset_no_crop_metadata = MetadataCatalog.get(\"test_dataset_rcnn\")"
      ]
    },
    {
      "cell_type": "markdown",
      "metadata": {
        "id": "C9bnpmClzreX"
      },
      "source": [
        "***Para usar o evaluator***"
      ]
    },
    {
      "cell_type": "code",
      "execution_count": null,
      "metadata": {
        "id": "ZE3Nga3ZBEWa"
      },
      "outputs": [],
      "source": [
        "evaluator = COCOEvaluator(\"test_dataset_rcnn\", cfg, False, output_dir=f\"/content/drive/MyDrive/IC_Machine_Learning/Deteccao_detectron2/{test}\")\n",
        "val_loader = build_detection_test_loader(cfg, \"test_dataset_rcnn\")\n",
        "print(inference_on_dataset(model, val_loader, evaluator))"
      ]
    },
    {
      "cell_type": "markdown",
      "metadata": {
        "id": "33f9YgSLvjMS"
      },
      "source": [
        "***Predictions and Crop BBOX***"
      ]
    },
    {
      "cell_type": "code",
      "execution_count": null,
      "metadata": {
        "id": "JVIcGrFtvixj"
      },
      "outputs": [],
      "source": [
        "cfg.MODEL.ROI_HEADS.SCORE_THRESH_TEST = 0.0\n",
        "predictor = DefaultPredictor(cfg)\n",
        "best_predictions = []\n",
        "gt_bbox = []\n",
        "names = []\n",
        "teste_dataset_dicts = load_coco_json(test_json, images)\n",
        "\n",
        "output_images_dir = f\"/content/drive/MyDrive/Transaciones/Images_RCNN\"\n",
        "os.makedirs(output_images_dir, exist_ok=True)\n",
        "\n",
        "for d in teste_dataset_dicts:\n",
        "    im = cv2.imread(d[\"file_name\"])\n",
        "\n",
        "    #saving gt bbox\n",
        "    gt_bbox.append(d[\"annotations\"][0][\"bbox\"])\n",
        "    names.append(d[\"file_name\"])\n",
        "    outputs = predictor(im)\n",
        "\n",
        "    detections = outputs[\"instances\"].to(\"cpu\")\n",
        "\n",
        "    if len(detections) > 0:\n",
        "        scores = detections.scores.tolist()\n",
        "        max_score_idx = scores.index(max(scores))\n",
        "        best_detection = detections[max_score_idx]\n",
        "        bbox = best_detection.pred_boxes.tensor.cpu().numpy()[0]\n",
        "\n",
        "        #saving best_prediction bbox\n",
        "        best_predictions.append(bbox)\n",
        "        x, y, w, h = bbox\n",
        "        x, y, w, h = int(x), int(y), int(w), int(h)\n",
        "\n",
        "        cropped_image = im[y:h, x:w]\n",
        "\n",
        "        # Salvar o recorte\n",
        "        output_image_path = os.path.join(output_images_dir, os.path.basename(d[\"file_name\"]))\n",
        "        cv2.imwrite(output_image_path, cropped_image)"
      ]
    },
    {
      "cell_type": "markdown",
      "metadata": {
        "id": "ymdc1Wr2HzUU"
      },
      "source": [
        "***IOU***"
      ]
    },
    {
      "cell_type": "code",
      "execution_count": null,
      "metadata": {
        "id": "16eEPsATHy9I"
      },
      "outputs": [],
      "source": [
        "def gt_bbox_coco_format(gt_bbox):\n",
        "  gt_bbox_copy = gt_bbox.copy()\n",
        "  for item in gt_bbox_copy:\n",
        "    x, y, w, h = item\n",
        "    item[2] = x+w\n",
        "    item[3] = y+h\n",
        "  return gt_bbox_copy\n",
        "\n",
        "def calculate_iou(box1, box2):\n",
        "    \"\"\"\n",
        "    Calculate Intersection over Union (IoU) between two bounding boxes.\n",
        "\n",
        "    Parameters:\n",
        "    - box1: Tuple (x1, y1, x2, y2) representing the coordinates of the first bounding box.\n",
        "    - box2: Tuple (x1, y1, x2, y2) representing the coordinates of the second bounding box.\n",
        "\n",
        "    Returns:\n",
        "    - IoU: Intersection over Union value.\n",
        "    \"\"\"\n",
        "\n",
        "    # Calculate the intersection coordinates\n",
        "    x1_i = max(box1[0], box2[0])\n",
        "    y1_i = max(box1[1], box2[1])\n",
        "    x2_i = min(box1[2], box2[2])\n",
        "    y2_i = min(box1[3], box2[3])\n",
        "\n",
        "    # Calculate the intersection area\n",
        "    intersection_area = max(0, x2_i - x1_i + 1) * max(0, y2_i - y1_i + 1)\n",
        "\n",
        "    # Calculate the union area\n",
        "    area_box1 = (box1[2] - box1[0] + 1) * (box1[3] - box1[1] + 1)\n",
        "    area_box2 = (box2[2] - box2[0] + 1) * (box2[3] - box2[1] + 1)\n",
        "    union_area = area_box1 + area_box2 - intersection_area\n",
        "\n",
        "    # Calculate IoU\n",
        "    iou = intersection_area / union_area\n",
        "\n",
        "    # append iou in a list\n",
        "    iou_list.append(iou)\n",
        "\n",
        "\n",
        "#list to store iou\n",
        "iou_list = []\n",
        "\n",
        "formated_gt_bbox = gt_bbox_coco_format(gt_bbox)\n",
        "\n",
        "for item1, item2 in zip(formated_gt_bbox, best_predictions):\n",
        "  calculate_iou(item1, item2)\n",
        "\n",
        "mean_iou = sum(iou_list)/len(iou_list)\n",
        "print(mean_iou)\n"
      ]
    }
  ],
  "metadata": {
    "accelerator": "GPU",
    "colab": {
      "collapsed_sections": [
        "B0I_MuxQ6kLz",
        "NuUFd_Afz2-z",
        "Oxn_u9OzD7qf"
      ],
      "provenance": [],
      "gpuType": "T4",
      "include_colab_link": true
    },
    "kernelspec": {
      "display_name": "Python 3",
      "name": "python3"
    },
    "language_info": {
      "name": "python"
    }
  },
  "nbformat": 4,
  "nbformat_minor": 0
}